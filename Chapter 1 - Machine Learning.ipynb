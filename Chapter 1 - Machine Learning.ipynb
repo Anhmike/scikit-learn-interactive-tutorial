{
 "metadata": {
  "name": ""
 },
 "nbformat": 3,
 "nbformat_minor": 0,
 "worksheets": [
  {
   "cells": [
    {
     "cell_type": "markdown",
     "metadata": {},
     "source": [
      "What is Machine Learning?\n",
      "==========================\n",
      "* Data + Algorithm -> predictive program.\n",
      "* Learn from past data, predict quantities on new, unseen data."
     ]
    },
    {
     "cell_type": "markdown",
     "metadata": {},
     "source": [
      "Three kinds of Learning\n",
      "========================\n",
      "* Supervised\n",
      "* Unsupervised\n",
      "* Reinforcement\n"
     ]
    },
    {
     "cell_type": "markdown",
     "metadata": {},
     "source": [
      "Supervised learning\n",
      "====================\n",
      "\n",
      "Training: Examples X_train together with labels y_train.\n",
      "\n",
      "Testing: Given X_test, predict y_test.\n",
      "\n",
      "Examples\n",
      "---------\n",
      "\n",
      "* Classification (spam, sentiment analysis, ...)\n",
      "* Regression (stocks, sales, ...)\n",
      "* Ranking (retrieval, search, ...)"
     ]
    },
    {
     "cell_type": "markdown",
     "metadata": {},
     "source": [
      "Unsupervised Learning\n",
      "=====================\n",
      "\n",
      "Examples X.\n",
      "Learn something about X.\n",
      "\n",
      "Examples\n",
      "--------\n",
      "* Dimensionality reduction\n",
      "* Clustering\n",
      "* Manifold learning\n"
     ]
    },
    {
     "cell_type": "markdown",
     "metadata": {},
     "source": [
      "Reinforcement Learning\n",
      "========================\n",
      "* Learn from experience (not covered)\n",
      "\n",
      "Examples\n",
      "---------\n",
      "* A robot learning to walk.\n",
      "* A car learning to park itself."
     ]
    }
   ],
   "metadata": {}
  }
 ]
}