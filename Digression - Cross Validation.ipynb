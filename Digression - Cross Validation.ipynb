{
 "metadata": {
  "name": ""
 },
 "nbformat": 3,
 "nbformat_minor": 0,
 "worksheets": [
  {
   "cells": [
    {
     "cell_type": "code",
     "collapsed": false,
     "input": [
      "from sklearn.datasets import load_iris\n",
      "iris = load_iris()\n",
      "X, y = iris.data, iris.target"
     ],
     "language": "python",
     "metadata": {},
     "outputs": []
    },
    {
     "cell_type": "code",
     "collapsed": false,
     "input": [
      "print(X.shape)\n",
      "print(y.shape)"
     ],
     "language": "python",
     "metadata": {},
     "outputs": []
    },
    {
     "cell_type": "markdown",
     "metadata": {},
     "source": [
      "What is cross-validation?\n",
      "==========================\n",
      "* A robust way to evaluate predictive accuracy.\n",
      "* Gives mean and standard deviation.\n",
      "* Makes good use of all the data."
     ]
    },
    {
     "cell_type": "code",
     "collapsed": false,
     "input": [
      "from sklearn.cross_validation import KFold\n",
      "n_samples = X.shape[0]\n",
      "cv = KFold(n=n_samples, n_folds=5)"
     ],
     "language": "python",
     "metadata": {},
     "outputs": []
    },
    {
     "cell_type": "code",
     "collapsed": false,
     "input": [
      "%matplotlib inline\n",
      "import numpy as np\n",
      "import matplotlib.pyplot as plt\n",
      "\n",
      "for training_set, test_set in cv:\n",
      "    plt.figure(figsize=(20,1))\n",
      "    plt.plot(training_set, np.ones(len(training_set)), \"o\", color='blue', label=\"training set\")\n",
      "    plt.plot(test_set, np.ones(len(test_set)), \"o\", color='red', label=\"test set\")\n",
      "    plt.legend(loc=\"best\")\n",
      "    plt.axis(\"off\")"
     ],
     "language": "python",
     "metadata": {},
     "outputs": []
    },
    {
     "cell_type": "markdown",
     "metadata": {},
     "source": [
      "Using it\n",
      "========"
     ]
    },
    {
     "cell_type": "code",
     "collapsed": false,
     "input": [
      "from sklearn.linear_model import LogisticRegression\n",
      "\n",
      "cv = KFold(n=n_samples, n_folds=5, shuffle=True)\n",
      "\n",
      "for training_set, test_set in cv:\n",
      "    X_train = X[training_set]\n",
      "    y_train = y[training_set]\n",
      "    X_test = X[test_set]\n",
      "    y_test = y[test_set]\n",
      "    lr = LogisticRegression()\n",
      "    lr.fit(X_train, y_train)\n",
      "    print(lr.score(X_test, y_test))\n",
      "    "
     ],
     "language": "python",
     "metadata": {},
     "outputs": []
    }
   ],
   "metadata": {}
  }
 ]
}