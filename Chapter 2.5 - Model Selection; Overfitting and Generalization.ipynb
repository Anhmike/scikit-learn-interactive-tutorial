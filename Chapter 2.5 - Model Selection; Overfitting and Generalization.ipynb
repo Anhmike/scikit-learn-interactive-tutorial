{
 "metadata": {
  "name": ""
 },
 "nbformat": 3,
 "nbformat_minor": 0,
 "worksheets": [
  {
   "cells": [
    {
     "cell_type": "markdown",
     "metadata": {},
     "source": [
      "Choosing the right complexity for a model\n",
      "==============================================="
     ]
    },
    {
     "cell_type": "code",
     "collapsed": false,
     "input": [
      "\n",
      "import numpy as np\n",
      "import matplotlib.pyplot as plt\n",
      "\n",
      "from sklearn.datasets import load_iris\n",
      "from sklearn.cross_validation import  train_test_split\n",
      "\n",
      "\n",
      "iris = load_iris()\n",
      "X = iris.data\n",
      "y = iris.target\n",
      "\n",
      "\n",
      "# dataset for decision function visualization\n",
      "X_2d = X[:, :2]\n",
      "X_2d = X_2d[y > 0]\n",
      "y_2d = y[y > 0]\n",
      "y_2d -= 1\n",
      "\n",
      "X_train, X_test, y_train, y_test = train_test_split(X_2d, y_2d)"
     ],
     "language": "python",
     "metadata": {},
     "outputs": []
    },
    {
     "cell_type": "code",
     "collapsed": false,
     "input": [
      "%matplotlib inline\n",
      "plt.scatter(X_train[:, 0], X_train[:, 1], c=y_train, s=100)"
     ],
     "language": "python",
     "metadata": {},
     "outputs": []
    },
    {
     "cell_type": "code",
     "collapsed": false,
     "input": [
      "def show_decision_function(svm):\n",
      "    plt.figure()\n",
      "    xx, yy = np.meshgrid(np.linspace(4.5, 8, 200), np.linspace(1.5, 4, 200))\n",
      "    Z = svm.decision_function(np.c_[xx.ravel(), yy.ravel()])\n",
      "    Z = Z.reshape(xx.shape)\n",
      "    plt.pcolormesh(xx, yy, Z, cmap=plt.cm.jet)\n",
      "    plt.scatter(X_train[:, 0], X_train[:, 1], c=y_train, s=100)"
     ],
     "language": "python",
     "metadata": {},
     "outputs": []
    },
    {
     "cell_type": "code",
     "collapsed": false,
     "input": [
      "from sklearn.svm import SVC\n",
      "\n",
      "training_scores = []\n",
      "test_scores = []\n",
      "\n",
      "for C in [0.01, 0.1, 1, 10, 100]:\n",
      "    svm = SVC(gamma=1, C=C)\n",
      "    svm.fit(X_train, y_train)\n",
      "    training_scores.append(svm.score(X_train, y_train))\n",
      "    test_scores.append(svm.score(X_test, y_test))\n",
      "    show_decision_function(svm)"
     ],
     "language": "python",
     "metadata": {},
     "outputs": []
    },
    {
     "cell_type": "code",
     "collapsed": false,
     "input": [
      "plt.plot(training_scores, label=\"training scores\")\n",
      "plt.plot(test_scores, label=\"test scores\")\n",
      "plt.legend(loc=\"best\")"
     ],
     "language": "python",
     "metadata": {},
     "outputs": []
    },
    {
     "cell_type": "code",
     "collapsed": false,
     "input": [],
     "language": "python",
     "metadata": {},
     "outputs": []
    }
   ],
   "metadata": {}
  }
 ]
}